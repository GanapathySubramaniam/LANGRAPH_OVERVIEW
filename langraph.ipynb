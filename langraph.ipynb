{
 "cells": [
  {
   "cell_type": "markdown",
   "metadata": {},
   "source": [
    "# 🚀 LangGraph Workflow with Web Search Integration"
   ]
  },
  {
   "cell_type": "markdown",
   "metadata": {},
   "source": [
    "📚 Import Libraries"
   ]
  },
  {
   "cell_type": "code",
   "execution_count": 29,
   "metadata": {},
   "outputs": [],
   "source": [
    "from typing import Annotated, Literal, TypedDict\n",
    "from langchain_core.messages import HumanMessage\n",
    "from langchain_openai import ChatOpenAI\n",
    "from langchain_core.tools import tool\n",
    "from langgraph.checkpoint.memory import MemorySaver\n",
    "from langgraph.graph import END, StateGraph, MessagesState\n",
    "from langgraph.prebuilt import ToolNode\n",
    "from serpapi import GoogleSearch\n",
    "from langchain_core.pydantic_v1 import BaseModel, Field\n",
    "import pandas as pd\n",
    "import os"
   ]
  },
  {
   "cell_type": "markdown",
   "metadata": {},
   "source": [
    "### 🔍 What's happening here?\n",
    "- We're importing all the necessary libraries for our LangGraph workflow. This includes components from LangChain, LangGraph, and other utilities for web searching and data manipulation.\n",
    "---"
   ]
  },
  {
   "cell_type": "markdown",
   "metadata": {},
   "source": [
    "🧠 Initialize the Language Model"
   ]
  },
  {
   "cell_type": "code",
   "execution_count": 30,
   "metadata": {},
   "outputs": [],
   "source": [
    "llm=ChatOpenAI(model=\"gpt-4o\", \n",
    "               temperature=1.0,\n",
    "               max_tokens=1000, \n",
    "               top_p=1.0, \n",
    "               frequency_penalty=0.0, \n",
    "               presence_penalty=0.0,\n",
    "               api_key=os.environ[\"OPENAI_API_KEY\"])"
   ]
  },
  {
   "cell_type": "markdown",
   "metadata": {},
   "source": [
    "## 🎛️ Model Configuration:\n",
    "\n",
    "- We're using the GPT-4 model with specific parameters for creativity and response length.\n",
    "- The API key is securely stored in an environment variable.\n",
    "---"
   ]
  },
  {
   "cell_type": "markdown",
   "metadata": {},
   "source": [
    "🌐 Web Search Tool"
   ]
  },
  {
   "cell_type": "code",
   "execution_count": 31,
   "metadata": {},
   "outputs": [],
   "source": [
    "@tool\n",
    "def web_search(query: str) -> str:\n",
    "    \"\"\"Call to surf the web for mortgage interest rates news in that particular year \"\"\"\n",
    "    params = {\n",
    "                \"engine\": \"google\",\n",
    "                \"q\": query,\n",
    "                \"api_key\": os.environ[\"SERPAPI_API_KEY\"],\n",
    "            }\n",
    "\n",
    "    search = GoogleSearch(params)\n",
    "    results = search.get_dict()\n",
    "    return results"
   ]
  },
  {
   "cell_type": "markdown",
   "metadata": {},
   "source": [
    "## 🔎 Tool Functionality:\n",
    "\n",
    "- This custom tool allows our LangGraph to perform web searches.\n",
    "- It uses the SerpAPI to query Google and return results.\n",
    "- The @tool decorator makes it compatible with our LangChain setup.\n",
    "---"
   ]
  },
  {
   "cell_type": "markdown",
   "metadata": {},
   "source": [
    "🔗 LLM and Tool Integration"
   ]
  },
  {
   "cell_type": "code",
   "execution_count": 32,
   "metadata": {},
   "outputs": [],
   "source": [
    "tools = [web_search]\n",
    "llm=llm.bind_tools(tools)\n",
    "tool_node = ToolNode(tools)"
   ]
  },
  {
   "cell_type": "markdown",
   "metadata": {},
   "source": [
    "## 🛠️ Integration Steps:\n",
    "\n",
    "- We create a list of tools (currently just our web search).\n",
    "- The language model is bound to these tools, allowing it to use them.\n",
    "- A ToolNode is created for use in our LangGraph workflow.\n",
    "---"
   ]
  },
  {
   "cell_type": "markdown",
   "metadata": {},
   "source": [
    "🔄 Workflow Control Functions\n",
    "- *Continuation Decision*"
   ]
  },
  {
   "cell_type": "code",
   "execution_count": 33,
   "metadata": {},
   "outputs": [],
   "source": [
    "def should_continue(state: MessagesState) -> Literal[\"tools\", END]:\n",
    "    messages = state['messages']\n",
    "    last_message = messages[-1]\n",
    "    if last_message.tool_calls:\n",
    "        return \"tools\"\n",
    "    return END"
   ]
  },
  {
   "cell_type": "markdown",
   "metadata": {},
   "source": [
    "## 🤔 Decision Logic:\n",
    "\n",
    "- This function decides whether to continue using tools or end the workflow.\n",
    "- If the last message includes tool calls, we continue; otherwise, we end.\n",
    "---"
   ]
  },
  {
   "cell_type": "markdown",
   "metadata": {},
   "source": [
    "Model Invocation"
   ]
  },
  {
   "cell_type": "code",
   "execution_count": 34,
   "metadata": {},
   "outputs": [],
   "source": [
    "def call_model(state: MessagesState):\n",
    "    messages = state['messages']\n",
    "    response = llm.invoke(messages)\n",
    "    return {\"messages\": [response]}"
   ]
  },
  {
   "cell_type": "markdown",
   "metadata": {},
   "source": [
    "## 💬 Model Interaction:\n",
    "\n",
    "- This function handles calling our language model with the current state.\n",
    "- It returns the model's response as a new message in the state.\n",
    "---"
   ]
  },
  {
   "cell_type": "markdown",
   "metadata": {},
   "source": [
    "📊 LangGraph Workflow Setup"
   ]
  },
  {
   "attachments": {
    "image.png": {
     "image/png": "[encoded data removed]"
    }
   },
   "cell_type": "markdown",
   "metadata": {},
   "source": [
    "![image.png](attachment:image.png)"
   ]
  },
  {
   "cell_type": "code",
   "execution_count": 35,
   "metadata": {},
   "outputs": [],
   "source": [
    "# Initializing the workflow\n",
    "workflow = StateGraph(MessagesState)\n",
    "# Adding nodes to the workflow (LLM invoke function , tools)\n",
    "workflow.add_node(\"agent\", call_model)\n",
    "workflow.add_node(\"tools\", tool_node)\n",
    "# Setting the entry point of the workflow\n",
    "workflow.set_entry_point(\"agent\")\n",
    "# Adding conditional edges to the workflow (if the condition is met, the workflow will move to the next node)\n",
    "workflow.add_conditional_edges(\"agent\",should_continue,)\n",
    "# Adding edges to the workflow (tools, agent)\n",
    "workflow.add_edge(\"tools\", 'agent')"
   ]
  },
  {
   "cell_type": "markdown",
   "metadata": {},
   "source": [
    "## 🏗️ Graph Structure:\n",
    "\n",
    "- We create a StateGraph to manage our workflow.\n",
    "- Two nodes are added: one for the agent (our LLM) and one for tools.\n",
    "- Conditional edges determine the flow based on the should_continue function.\n",
    "---"
   ]
  },
  {
   "cell_type": "markdown",
   "metadata": {},
   "source": [
    "⚙️ Compile the Workflow"
   ]
  },
  {
   "cell_type": "code",
   "execution_count": 36,
   "metadata": {},
   "outputs": [],
   "source": [
    "app = workflow.compile()"
   ]
  },
  {
   "cell_type": "markdown",
   "metadata": {},
   "source": [
    "🚀 Invocation Function"
   ]
  },
  {
   "cell_type": "code",
   "execution_count": 37,
   "metadata": {},
   "outputs": [],
   "source": [
    "def invoke(prompt):\n",
    "    final_state = app.invoke({\"messages\": [HumanMessage(content=prompt)]},\n",
    "                            config={\"configurable\": {\"thread_id\": 42}})\n",
    "    return final_state[\"messages\"][-1].content"
   ]
  },
  {
   "cell_type": "markdown",
   "metadata": {},
   "source": [
    "## 📣 Function Purpose:\n",
    "\n",
    "- This is our main interface for using the workflow.\n",
    "- It takes a prompt, runs it through the entire workflow, and returns the final response.\n",
    "---"
   ]
  },
  {
   "cell_type": "markdown",
   "metadata": {},
   "source": [
    "📝 Example Usage"
   ]
  },
  {
   "cell_type": "code",
   "execution_count": 38,
   "metadata": {},
   "outputs": [],
   "source": [
    "def generate(year_range,location):\n",
    "    prompts=[]\n",
    "    responses=[]\n",
    "    years=[i for i in range(year_range[0], year_range[1]+1)]\n",
    "    prompt='''\n",
    "            what happened in mortgage in the housing industry for interest rates in {year} in {location}?  \n",
    "            give me a short summary of the events that happened in the mortgage industry in {year} in {location} in this format:\n",
    "              - interest rates\n",
    "              - average house price in the location\n",
    "              - trend going up or down\n",
    "              - cause for the trend\n",
    "            '''\n",
    "    for year in years:\n",
    "        current_prompt=prompt.format(year=year, location=location)\n",
    "        prompts.append(current_prompt)\n",
    "        responses.append(invoke(current_prompt))\n",
    "    data=pd.DataFrame({'Year':years, 'Location':location, 'Event':responses})\n",
    "    data.to_excel(f'results/{location}_{year_range[0]}_{year_range[1]}.xlsx', index=False) \n"
   ]
  },
  {
   "cell_type": "markdown",
   "metadata": {},
   "source": [
    "## 🎯 Putting It All Together:\n",
    "\n",
    "- This example shows how to use our LangGraph workflow for multiple queries.\n",
    "- We define a list of prompts, generate responses for each, and store the results in an Excel file.\n",
    "---\n",
    "\n"
   ]
  },
  {
   "cell_type": "code",
   "execution_count": 39,
   "metadata": {},
   "outputs": [],
   "source": [
    "generate([2015,2024],'USA')"
   ]
  },
  {
   "cell_type": "markdown",
   "metadata": {},
   "source": [
    "🌟 Conclusion\n",
    "This notebook demonstrates a powerful LangGraph workflow that combines language models with web search capabilities. You can adapt this structure for various information retrieval and analysis tasks by modifying the prompts and processing logic as needed. Happy exploring! 🚀🔍🤖"
   ]
  }
 ],
 "metadata": {
  "kernelspec": {
   "display_name": "Python 3",
   "language": "python",
   "name": "python3"
  },
  "language_info": {
   "codemirror_mode": {
    "name": "ipython",
    "version": 3
   },
   "file_extension": ".py",
   "mimetype": "text/x-python",
   "name": "python",
   "nbconvert_exporter": "python",
   "pygments_lexer": "ipython3",
   "version": "3.10.11"
  }
 },
 "nbformat": 4,
 "nbformat_minor": 2
}
